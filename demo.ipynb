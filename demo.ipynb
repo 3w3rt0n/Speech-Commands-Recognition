{
 "cells": [
  {
   "cell_type": "markdown",
   "metadata": {},
   "source": [
    "<b>Mounting Google Drive in Google Colab"
   ]
  },
  {
   "cell_type": "code",
   "execution_count": null,
   "metadata": {},
   "outputs": [],
   "source": [
    "from google.colab import drive\n",
    "drive.mount('/mydrive')"
   ]
  },
  {
   "cell_type": "markdown",
   "metadata": {},
   "source": [
    "<b>Navigating to project directory"
   ]
  },
  {
   "cell_type": "code",
   "execution_count": 2,
   "metadata": {
    "colab": {
     "base_uri": "https://localhost:8080/",
     "height": 35
    },
    "colab_type": "code",
    "executionInfo": {
     "elapsed": 411,
     "status": "ok",
     "timestamp": 1537890861650,
     "user": {
      "displayName": "Jayesh Saita",
      "photoUrl": "",
      "userId": "06461483602849596024"
     },
     "user_tz": -330
    },
    "id": "OQ44HlHIP7jG",
    "outputId": "a3799312-3767-476c-df97-64159475abbc"
   },
   "outputs": [
    {
     "name": "stdout",
     "output_type": "stream",
     "text": [
      "/\n"
     ]
    }
   ],
   "source": [
    "cd .."
   ]
  },
  {
   "cell_type": "code",
   "execution_count": 3,
   "metadata": {
    "colab": {
     "base_uri": "https://localhost:8080/",
     "height": 35
    },
    "colab_type": "code",
    "executionInfo": {
     "elapsed": 369,
     "status": "ok",
     "timestamp": 1537890862528,
     "user": {
      "displayName": "Jayesh Saita",
      "photoUrl": "",
      "userId": "06461483602849596024"
     },
     "user_tz": -330
    },
    "id": "ejDT71klP_An",
    "outputId": "64190570-acab-4ad0-8c31-80dfb4bfd1f5"
   },
   "outputs": [
    {
     "name": "stdout",
     "output_type": "stream",
     "text": [
      "/mydrive/My Drive/speech_command_recognition\n"
     ]
    }
   ],
   "source": [
    "cd mydrive/My Drive/speech_command_recognition"
   ]
  },
  {
   "cell_type": "markdown",
   "metadata": {},
   "source": [
    "<b>Installing required packages"
   ]
  },
  {
   "cell_type": "code",
   "execution_count": 5,
   "metadata": {
    "colab": {
     "base_uri": "https://localhost:8080/",
     "height": 731
    },
    "colab_type": "code",
    "executionInfo": {
     "elapsed": 12908,
     "status": "ok",
     "timestamp": 1537890878331,
     "user": {
      "displayName": "Jayesh Saita",
      "photoUrl": "",
      "userId": "06461483602849596024"
     },
     "user_tz": -330
    },
    "id": "qKTfEVfcP_ma",
    "outputId": "b7663ba2-7154-4183-9d3e-069a096b5349"
   },
   "outputs": [
    {
     "name": "stdout",
     "output_type": "stream",
     "text": [
      "Requirement already satisfied: torch==0.4.1 from http://download.pytorch.org/whl/cu80/torch-0.4.1-cp36-cp36m-linux_x86_64.whl in /usr/local/lib/python3.6/dist-packages (0.4.1)\n",
      "Requirement already satisfied: torchvision in /usr/local/lib/python3.6/dist-packages (0.2.1)\n",
      "Requirement already satisfied: torch in /usr/local/lib/python3.6/dist-packages (from torchvision) (0.4.1)\n",
      "Requirement already satisfied: six in /usr/local/lib/python3.6/dist-packages (from torchvision) (1.11.0)\n",
      "Requirement already satisfied: numpy in /usr/local/lib/python3.6/dist-packages (from torchvision) (1.14.5)\n",
      "Collecting pillow>=4.1.1 (from torchvision)\n",
      "  Using cached https://files.pythonhosted.org/packages/d1/24/f53ff6b61b3d728b90934bddb4f03f8ab584a7f49299bf3bde56e2952612/Pillow-5.2.0-cp36-cp36m-manylinux1_x86_64.whl\n",
      "Installing collected packages: pillow\n",
      "  Found existing installation: Pillow 4.0.0\n",
      "    Uninstalling Pillow-4.0.0:\n",
      "      Successfully uninstalled Pillow-4.0.0\n",
      "Successfully installed pillow-5.2.0\n",
      "Requirement already satisfied: librosa in /usr/local/lib/python3.6/dist-packages (0.6.2)\n",
      "Requirement already satisfied: decorator>=3.0.0 in /usr/local/lib/python3.6/dist-packages (from librosa) (4.3.0)\n",
      "Requirement already satisfied: numpy>=1.8.0 in /usr/local/lib/python3.6/dist-packages (from librosa) (1.14.5)\n",
      "Requirement already satisfied: numba>=0.38.0 in /usr/local/lib/python3.6/dist-packages (from librosa) (0.40.0)\n",
      "Requirement already satisfied: joblib>=0.12 in /usr/local/lib/python3.6/dist-packages (from librosa) (0.12.5)\n",
      "Requirement already satisfied: six>=1.3 in /usr/local/lib/python3.6/dist-packages (from librosa) (1.11.0)\n",
      "Requirement already satisfied: scipy>=0.14.0 in /usr/local/lib/python3.6/dist-packages (from librosa) (0.19.1)\n",
      "Requirement already satisfied: resampy>=0.2.0 in /usr/local/lib/python3.6/dist-packages (from librosa) (0.2.1)\n",
      "Requirement already satisfied: scikit-learn!=0.19.0,>=0.14.0 in /usr/local/lib/python3.6/dist-packages (from librosa) (0.19.2)\n",
      "Requirement already satisfied: audioread>=2.0.0 in /usr/local/lib/python3.6/dist-packages (from librosa) (2.1.6)\n",
      "Requirement already satisfied: llvmlite>=0.25.0dev0 in /usr/local/lib/python3.6/dist-packages (from numba>=0.38.0->librosa) (0.25.0)\n",
      "Collecting Pillow==4.0.0\n",
      "  Using cached https://files.pythonhosted.org/packages/37/e8/b3fbf87b0188d22246678f8cd61e23e31caa1769ebc06f1664e2e5fe8a17/Pillow-4.0.0-cp36-cp36m-manylinux1_x86_64.whl\n",
      "Requirement already satisfied: olefile in /usr/local/lib/python3.6/dist-packages (from Pillow==4.0.0) (0.46)\n",
      "\u001b[31mtorchvision 0.2.1 has requirement pillow>=4.1.1, but you'll have pillow 4.0.0 which is incompatible.\u001b[0m\n",
      "Installing collected packages: Pillow\n",
      "  Found existing installation: Pillow 5.2.0\n",
      "    Uninstalling Pillow-5.2.0:\n",
      "      Successfully uninstalled Pillow-5.2.0\n",
      "Successfully installed Pillow-4.0.0\n",
      "Collecting PIL\n",
      "\u001b[31m  Could not find a version that satisfies the requirement PIL (from versions: )\u001b[0m\n",
      "\u001b[31mNo matching distribution found for PIL\u001b[0m\n",
      "Requirement already satisfied: image in /usr/local/lib/python3.6/dist-packages (1.5.25)\n",
      "Requirement already satisfied: django in /usr/local/lib/python3.6/dist-packages (from image) (2.1.1)\n",
      "Requirement already satisfied: pillow in /usr/local/lib/python3.6/dist-packages (from image) (4.0.0)\n",
      "Requirement already satisfied: pytz in /usr/local/lib/python3.6/dist-packages (from django->image) (2018.5)\n",
      "Requirement already satisfied: olefile in /usr/local/lib/python3.6/dist-packages (from pillow->image) (0.46)\n"
     ]
    }
   ],
   "source": [
    "!pip3 install http://download.pytorch.org/whl/cu80/torch-0.4.1-cp36-cp36m-linux_x86_64.whl \n",
    "!pip3 install torchvision\n",
    "!pip3 install librosa\n",
    "!pip3 install Pillow==4.0.0\n",
    "!pip3 install PIL\n",
    "!pip3 install image\n",
    "import PIL.Image"
   ]
  },
  {
   "cell_type": "code",
   "execution_count": 39,
   "metadata": {
    "colab": {},
    "colab_type": "code",
    "id": "Nk_1y717QC21"
   },
   "outputs": [],
   "source": [
    "%reload_ext autoreload\n",
    "%autoreload 2\n",
    "%matplotlib inline"
   ]
  },
  {
   "cell_type": "markdown",
   "metadata": {},
   "source": [
    "<b>Importing required packages from Project"
   ]
  },
  {
   "cell_type": "code",
   "execution_count": 40,
   "metadata": {
    "colab": {},
    "colab_type": "code",
    "id": "Xp-zYGSjQHCw"
   },
   "outputs": [],
   "source": [
    "import torch\n",
    "from torchvision import models, datasets, transforms\n",
    "import librosa\n",
    "from utils import util\n",
    "import IPython.display as ipd\n",
    "import os\n",
    "import matplotlib.pyplot as plt"
   ]
  },
  {
   "cell_type": "code",
   "execution_count": 41,
   "metadata": {
    "colab": {
     "base_uri": "https://localhost:8080/",
     "height": 53
    },
    "colab_type": "code",
    "executionInfo": {
     "elapsed": 1256,
     "status": "ok",
     "timestamp": 1537890910569,
     "user": {
      "displayName": "Jayesh Saita",
      "photoUrl": "",
      "userId": "06461483602849596024"
     },
     "user_tz": -330
    },
    "id": "RH9rGbQOTwMC",
    "outputId": "3ed56af8-6d99-4aa1-a957-3f1873ce67bd"
   },
   "outputs": [
    {
     "data": {
      "text/html": [
       "\n",
       "                <audio controls=\"controls\" >\n",
       "                    <source src=\"data:audio/x-wav;base64,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\" type=\"audio/x-wav\" />\n",
       "                    Your browser does not support the audio element.\n",
       "                </audio>\n",
       "              "
      ],
      "text/plain": [
       "<IPython.lib.display.Audio object>"
      ]
     },
     "execution_count": 41,
     "metadata": {},
     "output_type": "execute_result"
    }
   ],
   "source": [
    "ipd.Audio('demo/audio/demo.wav')"
   ]
  },
  {
   "cell_type": "code",
   "execution_count": 42,
   "metadata": {},
   "outputs": [
    {
     "name": "stdout",
     "output_type": "stream",
     "text": [
      "Generating Spectograms\n",
      "Performing prediction\n",
      "Prediction for demo.wav:yes\n"
     ]
    }
   ],
   "source": [
    "util.demo('saved/2018-09-24_15_30_53/cycle_3')"
   ]
  },
  {
   "cell_type": "code",
   "execution_count": null,
   "metadata": {},
   "outputs": [],
   "source": []
  }
 ],
 "metadata": {
  "accelerator": "GPU",
  "colab": {
   "collapsed_sections": [],
   "name": "demo.ipynb",
   "provenance": [],
   "version": "0.3.2"
  },
  "kernelspec": {
   "display_name": "Python 3",
   "language": "python",
   "name": "python3"
  },
  "language_info": {
   "codemirror_mode": {
    "name": "ipython",
    "version": 3
   },
   "file_extension": ".py",
   "mimetype": "text/x-python",
   "name": "python",
   "nbconvert_exporter": "python",
   "pygments_lexer": "ipython3",
   "version": "3.6.6"
  }
 },
 "nbformat": 4,
 "nbformat_minor": 2
}
